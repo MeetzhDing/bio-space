{
 "cells": [
  {
   "cell_type": "code",
   "execution_count": 3,
   "metadata": {
    "collapsed": true
   },
   "outputs": [],
   "source": [
    "from Bio import Entrez, SeqIO, SeqRecord, Seq\n",
    "from Bio.Entrez.Parser import DictionaryElement\n",
    "Entrez.email = \"3303652975@qq.com\"\n",
    "\n",
    "def search_nucleotide_transcript_ref_seq(animal: str, gene: str) -> DictionaryElement :\n",
    "    \"\"\" 根据物种和基因，获取nucleotide中查询到的首个为transcript的 项目id \"\"\"\n",
    "    search_term =  '{}[Organism] AND {}[Gene]'.format(animal, gene)\n",
    "    search_result = Entrez.read(Entrez.esearch(db=\"nucleotide\",term=search_term))\n",
    "    search_summary = Entrez.read(Entrez.esummary(db=\"nucleotide\", id=\",\".join(search_result['IdList'])))\n",
    "    # 1. 在列表中查找 Title 中包含 `transcript` 且以 `mRNA` 结尾的项\n",
    "    transcript_mrna_target = next((x for x in search_summary if \"transcript\" in x['Title'] and str(x['Title']).endswith('mRNA')), None)\n",
    "    # 2. 如果没找到，则查找列表中以 `mRNA` 结尾的项\n",
    "    mrna_target = next((x for x in search_summary if str(x['Title']).endswith('mRNA')), None)\n",
    "    # 3. 如果没找到，则查找列表中以 `complete cds` 结尾的项\n",
    "    complete_cds_target = next((x for x in search_summary if str(x['Title']).endswith('complete cds')), None)\n",
    "    # 4. 如果没找到，则查找列表中以 `partial cds` 结尾的项\n",
    "    partial_cds_target = next((x for x in search_summary if str(x['Title']).endswith('partial cds')), None)\n",
    "    return transcript_mrna_target or mrna_target or complete_cds_target or partial_cds_target or None\n",
    "\n",
    "def get_seq_record_cds(seq_record: SeqRecord) -> Seq :\n",
    "    \"\"\" 通过 seq_record, 提取其中的 CDS 序列 \"\"\"\n",
    "    if seq_record is None: return None\n",
    "    cds_feature = None\n",
    "    for idx, feature in enumerate(seq_record.features):\n",
    "        if feature.type == 'CDS':\n",
    "            cds_feature = feature\n",
    "            break\n",
    "    if cds_feature is None:\n",
    "        return None\n",
    "    else:\n",
    "        cds_seq = seq_record.seq[cds_feature.location.start:cds_feature.location.end]\n",
    "        return cds_seq"
   ]
  },
  {
   "cell_type": "code",
   "execution_count": 60,
   "metadata": {
    "collapsed": false,
    "pycharm": {
     "name": "#%%\n"
    }
   },
   "outputs": [],
   "source": [
    "def get_nucleotide_transcript_cds_seq(animal, gene):\n",
    "    target_summary = search_nucleotide_transcript_ref_seq(animal, gene)\n",
    "    # print(target_summary)\n",
    "    seq_record = SeqIO.read(Entrez.efetch(db=\"nucleotide\", id=target_summary['Id'], rettype=\"gb\", retmode=\"text\"), \"genbank\")\n",
    "    # print(seq_record)\n",
    "    cds_seq: Seq = get_seq_record_cds(seq_record)\n",
    "    if cds_seq is None:\n",
    "        return None\n",
    "    else:\n",
    "        return '>{}_{}'.format(animal, gene) + '\\n' + str(cds_seq) + '\\n'\n",
    "\n",
    "def print_all_cds_seq(animal_list: [str], gene_list: [str]):\n",
    "    failure_list = []\n",
    "    for animal in animal_list:\n",
    "        for gene in gene_list:\n",
    "            try:\n",
    "                result = get_nucleotide_transcript_cds_seq(animal, gene)\n",
    "                print(result + '\\n')\n",
    "            except:\n",
    "                failure_list.append('{}_{}'.format(animal, gene))\n",
    "\n",
    "    print('failre_list: \\n', failure_list)"
   ]
  },
  {
   "cell_type": "code",
   "execution_count": 60,
   "metadata": {
    "collapsed": false,
    "pycharm": {
     "name": "#%%\n"
    }
   },
   "outputs": [],
   "source": [
    "animals = [\n",
    "    'Homo_sapiens',\n",
    "]\n",
    "genes = [\n",
    "    'Tmbim1',\n",
    "]\n",
    "print_all_cds_seq(animals, genes)"
   ]
  }
 ],
 "metadata": {
  "kernelspec": {
   "display_name": "Python 3",
   "language": "python",
   "name": "python3"
  },
  "language_info": {
   "codemirror_mode": {
    "name": "ipython",
    "version": 3
   },
   "file_extension": ".py",
   "mimetype": "text/x-python",
   "name": "python",
   "nbconvert_exporter": "python",
   "pygments_lexer": "ipython3",
   "version": "3.8.12"
  }
 },
 "nbformat": 4,
 "nbformat_minor": 0
}
