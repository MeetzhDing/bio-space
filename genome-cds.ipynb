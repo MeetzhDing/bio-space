{
 "cells": [
  {
   "cell_type": "code",
   "execution_count": 2,
   "metadata": {
    "collapsed": true
   },
   "outputs": [],
   "source": [
    "from Bio import Entrez, SeqIO\n",
    "Entrez.email = \"3303652975@qq.com\""
   ]
  },
  {
   "cell_type": "code",
   "execution_count": 3,
   "outputs": [],
   "source": [
    "def get_cds_seq_by_id(gb_id):\n",
    "    gb_record = SeqIO.read(Entrez.efetch(db=\"nucleotide\", id=gb_id, rettype=\"gb\", retmode=\"text\"), \"genbank\")\n",
    "    cds_feature = None\n",
    "    for idx, feature in enumerate(gb_record.features):\n",
    "        if feature.type == 'CDS':\n",
    "            cds_feature = feature\n",
    "            break\n",
    "    if cds_feature is None:\n",
    "        return None\n",
    "    else:\n",
    "        cds_seq = gb_record.seq[cds_feature.location.start:cds_feature.location.end]\n",
    "        return cds_seq"
   ],
   "metadata": {
    "collapsed": false,
    "pycharm": {
     "name": "#%%\n"
    }
   }
  },
  {
   "cell_type": "code",
   "execution_count": 4,
   "outputs": [],
   "source": [
    "def search_nucleotide_id(animal, gene):\n",
    "    search_term =  '{}[Orgn] AND {}[Gene]'.format(animal, gene)\n",
    "    search_result = Entrez.read(Entrez.esearch(db=\"nucleotide\",term=search_term))\n",
    "    first_id = search_result['IdList'][0]\n",
    "    return first_id"
   ],
   "metadata": {
    "collapsed": false,
    "pycharm": {
     "name": "#%%\n"
    }
   }
  },
  {
   "cell_type": "code",
   "execution_count": 5,
   "outputs": [],
   "source": [
    "# https://www.ncbi.nlm.nih.gov/nuccore/NM_026582.5\n",
    "r_seq = get_cds_seq_by_id(\"NM_026582.5\")\n",
    "\n",
    "r_id = search_nucleotide_id('Mus', 'Wls')"
   ],
   "metadata": {
    "collapsed": false,
    "pycharm": {
     "name": "#%%\n"
    }
   }
  },
  {
   "cell_type": "code",
   "execution_count": null,
   "outputs": [],
   "source": [],
   "metadata": {
    "collapsed": false,
    "pycharm": {
     "name": "#%%\n"
    }
   }
  }
 ],
 "metadata": {
  "kernelspec": {
   "display_name": "Python 3",
   "language": "python",
   "name": "python3"
  },
  "language_info": {
   "codemirror_mode": {
    "name": "ipython",
    "version": 2
   },
   "file_extension": ".py",
   "mimetype": "text/x-python",
   "name": "python",
   "nbconvert_exporter": "python",
   "pygments_lexer": "ipython2",
   "version": "2.7.6"
  }
 },
 "nbformat": 4,
 "nbformat_minor": 0
}